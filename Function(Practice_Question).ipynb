{
  "nbformat": 4,
  "nbformat_minor": 0,
  "metadata": {
    "colab": {
      "name": "Function(Practice_Question).ipynb",
      "provenance": [],
      "collapsed_sections": []
    },
    "kernelspec": {
      "name": "python3",
      "display_name": "Python 3"
    },
    "language_info": {
      "name": "python"
    }
  },
  "cells": [
    {
      "cell_type": "code",
      "execution_count": null,
      "metadata": {
        "colab": {
          "base_uri": "https://localhost:8080/"
        },
        "id": "3l_UiPep5r-B",
        "outputId": "de882975-4668-4cf7-cb4b-ff6c4c956ee2"
      },
      "outputs": [
        {
          "output_type": "stream",
          "name": "stdout",
          "text": [
            "10\n"
          ]
        }
      ],
      "source": [
        "# 1 . you have to write a fun which will take string and return a len of \n",
        "\n",
        "def findLength(string):\n",
        "\n",
        "\t\n",
        "\tcount = 0\n",
        "\n",
        "\n",
        "\tfor i in string:\n",
        "\t\tcount+= 1\n",
        "\n",
        "\treturn count\n",
        "\n",
        "string = \"bhavyashah\"\n",
        "print(findLength(string))\n"
      ]
    },
    {
      "cell_type": "code",
      "source": [
        "# 2. you have to write a fun which will take string and return a len of  without using a inbuilt fun len\n",
        "a = 'string'\n",
        "count = 0\n",
        "\n",
        "while True:\n",
        "    try:\n",
        "        if a[count]:\n",
        "            count += 1\n",
        "    except IndexError as e:\n",
        "        break\n",
        "\n",
        "print(count)"
      ],
      "metadata": {
        "colab": {
          "base_uri": "https://localhost:8080/"
        },
        "id": "w3JXLyQa6Tp_",
        "outputId": "27dee0e9-82d9-4acc-c009-41fe5042551b"
      },
      "execution_count": null,
      "outputs": [
        {
          "output_type": "stream",
          "name": "stdout",
          "text": [
            "6\n"
          ]
        }
      ]
    },
    {
      "cell_type": "code",
      "source": [
        "\n",
        "x = 6.0\n",
        "y = 2.0\n",
        "\n",
        "\n",
        "print(x + y)\n",
        "\n",
        "\n",
        "print(x - y)\n",
        "\n",
        "\n",
        "print(x * y)\n",
        "\n",
        "\n",
        "print(x / y)\n",
        "\n",
        "\n",
        "print(x % y) \n",
        "\n",
        "\n",
        "print(abs(x))\n",
        "\n",
        "\n",
        "print(x ** y)"
      ],
      "metadata": {
        "colab": {
          "base_uri": "https://localhost:8080/"
        },
        "id": "k0TirDb17tPm",
        "outputId": "d33d6d84-b586-43dc-ccd1-6052279b6f4f"
      },
      "execution_count": null,
      "outputs": [
        {
          "output_type": "stream",
          "name": "stdout",
          "text": [
            "8.0\n",
            "4.0\n",
            "12.0\n",
            "3.0\n",
            "0.0\n",
            "6.0\n",
            "36.0\n"
          ]
        }
      ]
    },
    {
      "cell_type": "code",
      "source": [
        "#7 . Write a function which will whould return list of all the file name from a directory . \n",
        "\n",
        "dictionary = {\"bhavya\": 2, \"shah\": 3, \"bhaviya\": 4}\n",
        "print(dictionary.values())\n",
        "\n",
        "dictionary = {\"shah\": \"4\", \"for\": \"3\", \"shah\": \"4\"}\n",
        "print(dictionary.values())\n"
      ],
      "metadata": {
        "colab": {
          "base_uri": "https://localhost:8080/"
        },
        "id": "XfrYTASe8HRc",
        "outputId": "bbdea31d-beb1-48a4-af68-aebe6fdd21ea"
      },
      "execution_count": null,
      "outputs": [
        {
          "output_type": "stream",
          "name": "stdout",
          "text": [
            "dict_values([2, 3, 4])\n",
            "dict_values(['4', '3'])\n"
          ]
        }
      ]
    },
    {
      "cell_type": "code",
      "source": [
        "# 9 . write a function which will be able to show date and time  . \n",
        "import datetime\n",
        "current_time = datetime.datetime.now()\n",
        "print (\"Time now  is : \", end = \"\")\n",
        "print (current_time)\n"
      ],
      "metadata": {
        "colab": {
          "base_uri": "https://localhost:8080/"
        },
        "id": "CzEpIPiS8-tk",
        "outputId": "080ef45e-beeb-4f1b-c595-0f8b7a59ea27"
      },
      "execution_count": null,
      "outputs": [
        {
          "output_type": "stream",
          "name": "stdout",
          "text": [
            "Time now  is : 2022-01-04 09:55:59.485195\n"
          ]
        }
      ]
    },
    {
      "cell_type": "code",
      "source": [
        "# 19 . write a function by which you can print an ip address of your system . \n",
        "\n",
        "import platform\n",
        "\n",
        "info = {}\n",
        "\n",
        "platform_details = platform.platform()\n",
        "\n",
        "info[\"platform details\"] = platform_details\n",
        "\n",
        "system_name = platform.system()\n",
        "\n",
        "info[\"system name\"] = system_name\n",
        "\n",
        "processor_name = platform.processor()\n",
        "\n",
        "info[\"processor name\"] = processor_name\n",
        "\n",
        "architecture_details = platform.architecture()\n",
        "\n",
        "info[\"architectural detail\"] = architecture_details\n",
        "\n",
        "for i, j in info.items():\n",
        "\tprint(i, \" - \", j)\n",
        "\n"
      ],
      "metadata": {
        "colab": {
          "base_uri": "https://localhost:8080/"
        },
        "id": "7sFflaNohr8N",
        "outputId": "9c37b61c-c012-4843-dfe4-6048e6d9c00f"
      },
      "execution_count": null,
      "outputs": [
        {
          "output_type": "stream",
          "name": "stdout",
          "text": [
            "platform details  -  Linux-5.4.144+-x86_64-with-Ubuntu-18.04-bionic\n",
            "system name  -  Linux\n",
            "processor name  -  x86_64\n",
            "architectural detail  -  ('64bit', '')\n"
          ]
        }
      ]
    },
    {
      "cell_type": "code",
      "source": [
        "# 17. write a function to read a word file . \n",
        "\n",
        "import docx\n",
        "\n",
        "def readtxt(filename):\n",
        "    doc = docx.Document(filename)\n",
        "    fullText = []\n",
        "    for para in doc.paragraphs:\n",
        "        fullText.append(para.text)\n",
        "    return '\\n'.join(fullText)\n",
        "\n",
        "print (readtxt('C:\\personal.docx'))\n"
      ],
      "metadata": {
        "id": "zlU38d8-XzWM"
      },
      "execution_count": null,
      "outputs": []
    },
    {
      "cell_type": "code",
      "source": [
        ""
      ],
      "metadata": {
        "id": "jpS9xmpbY0iX"
      },
      "execution_count": null,
      "outputs": []
    }
  ]
}